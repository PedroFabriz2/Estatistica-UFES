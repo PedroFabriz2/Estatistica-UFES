{
 "cells": [
  {
   "cell_type": "code",
   "execution_count": 80,
   "metadata": {},
   "outputs": [],
   "source": [
    "#Bibliotecas utilizadas para analise dos dados\n",
    "import pandas as pd \n",
    "import numpy as np\n",
    "import math\n",
    "import json\n",
    "\n",
    "\n",
    "#Leitura e manipulacao de dados no arquivo csv\n",
    "df = pd.read_csv(\"./Pedro Henrique Fabriz Ulhoa - dados.csv\")\n",
    "df = df[['ID', 'V1', 'V6', 'V7']]\n"
   ]
  },
  {
   "cell_type": "code",
   "execution_count": 81,
   "metadata": {},
   "outputs": [
    {
     "data": {
      "text/html": [
       "<div>\n",
       "<style scoped>\n",
       "    .dataframe tbody tr th:only-of-type {\n",
       "        vertical-align: middle;\n",
       "    }\n",
       "\n",
       "    .dataframe tbody tr th {\n",
       "        vertical-align: top;\n",
       "    }\n",
       "\n",
       "    .dataframe thead th {\n",
       "        text-align: right;\n",
       "    }\n",
       "</style>\n",
       "<table border=\"1\" class=\"dataframe\">\n",
       "  <thead>\n",
       "    <tr style=\"text-align: right;\">\n",
       "      <th></th>\n",
       "      <th>ID</th>\n",
       "      <th>V1</th>\n",
       "      <th>V6</th>\n",
       "      <th>V7</th>\n",
       "    </tr>\n",
       "  </thead>\n",
       "  <tbody>\n",
       "    <tr>\n",
       "      <th>0</th>\n",
       "      <td>1</td>\n",
       "      <td>Afonso Claudio</td>\n",
       "      <td>6.4</td>\n",
       "      <td>5.0</td>\n",
       "    </tr>\n",
       "    <tr>\n",
       "      <th>1</th>\n",
       "      <td>2</td>\n",
       "      <td>Agua Doce do Norte</td>\n",
       "      <td>6.1</td>\n",
       "      <td>4.2</td>\n",
       "    </tr>\n",
       "    <tr>\n",
       "      <th>2</th>\n",
       "      <td>3</td>\n",
       "      <td>Aguia Branca</td>\n",
       "      <td>6.8</td>\n",
       "      <td>4.7</td>\n",
       "    </tr>\n",
       "    <tr>\n",
       "      <th>3</th>\n",
       "      <td>4</td>\n",
       "      <td>Alegre</td>\n",
       "      <td>5.8</td>\n",
       "      <td>4.2</td>\n",
       "    </tr>\n",
       "    <tr>\n",
       "      <th>4</th>\n",
       "      <td>5</td>\n",
       "      <td>Alfredo Chaves</td>\n",
       "      <td>6.3</td>\n",
       "      <td>5.1</td>\n",
       "    </tr>\n",
       "    <tr>\n",
       "      <th>...</th>\n",
       "      <td>...</td>\n",
       "      <td>...</td>\n",
       "      <td>...</td>\n",
       "      <td>...</td>\n",
       "    </tr>\n",
       "    <tr>\n",
       "      <th>73</th>\n",
       "      <td>74</td>\n",
       "      <td>Viana</td>\n",
       "      <td>5.3</td>\n",
       "      <td>4.1</td>\n",
       "    </tr>\n",
       "    <tr>\n",
       "      <th>74</th>\n",
       "      <td>75</td>\n",
       "      <td>Vila Pavao</td>\n",
       "      <td>6.8</td>\n",
       "      <td>5.6</td>\n",
       "    </tr>\n",
       "    <tr>\n",
       "      <th>75</th>\n",
       "      <td>76</td>\n",
       "      <td>Vila Valerio</td>\n",
       "      <td>6.6</td>\n",
       "      <td>5.2</td>\n",
       "    </tr>\n",
       "    <tr>\n",
       "      <th>76</th>\n",
       "      <td>77</td>\n",
       "      <td>Vila Velha</td>\n",
       "      <td>5.6</td>\n",
       "      <td>4.4</td>\n",
       "    </tr>\n",
       "    <tr>\n",
       "      <th>77</th>\n",
       "      <td>78</td>\n",
       "      <td>Vitoria</td>\n",
       "      <td>5.6</td>\n",
       "      <td>4.3</td>\n",
       "    </tr>\n",
       "  </tbody>\n",
       "</table>\n",
       "<p>78 rows × 4 columns</p>\n",
       "</div>"
      ],
      "text/plain": [
       "    ID                  V1   V6   V7\n",
       "0    1      Afonso Claudio  6.4  5.0\n",
       "1    2  Agua Doce do Norte  6.1  4.2\n",
       "2    3        Aguia Branca  6.8  4.7\n",
       "3    4              Alegre  5.8  4.2\n",
       "4    5      Alfredo Chaves  6.3  5.1\n",
       "..  ..                 ...  ...  ...\n",
       "73  74               Viana  5.3  4.1\n",
       "74  75          Vila Pavao  6.8  5.6\n",
       "75  76        Vila Valerio  6.6  5.2\n",
       "76  77          Vila Velha  5.6  4.4\n",
       "77  78             Vitoria  5.6  4.3\n",
       "\n",
       "[78 rows x 4 columns]"
      ]
     },
     "execution_count": 81,
     "metadata": {},
     "output_type": "execute_result"
    }
   ],
   "source": [
    "#printando dataframe de interesse\n",
    "df"
   ]
  },
  {
   "cell_type": "code",
   "execution_count": 82,
   "metadata": {},
   "outputs": [
    {
     "data": {
      "text/html": [
       "<div>\n",
       "<style scoped>\n",
       "    .dataframe tbody tr th:only-of-type {\n",
       "        vertical-align: middle;\n",
       "    }\n",
       "\n",
       "    .dataframe tbody tr th {\n",
       "        vertical-align: top;\n",
       "    }\n",
       "\n",
       "    .dataframe thead th {\n",
       "        text-align: right;\n",
       "    }\n",
       "</style>\n",
       "<table border=\"1\" class=\"dataframe\">\n",
       "  <thead>\n",
       "    <tr style=\"text-align: right;\">\n",
       "      <th></th>\n",
       "      <th>ID</th>\n",
       "      <th>V6</th>\n",
       "      <th>V7</th>\n",
       "    </tr>\n",
       "  </thead>\n",
       "  <tbody>\n",
       "    <tr>\n",
       "      <th>count</th>\n",
       "      <td>78.00</td>\n",
       "      <td>78.00</td>\n",
       "      <td>78.00</td>\n",
       "    </tr>\n",
       "    <tr>\n",
       "      <th>mean</th>\n",
       "      <td>39.50</td>\n",
       "      <td>5.91</td>\n",
       "      <td>4.65</td>\n",
       "    </tr>\n",
       "    <tr>\n",
       "      <th>std</th>\n",
       "      <td>22.66</td>\n",
       "      <td>0.43</td>\n",
       "      <td>0.51</td>\n",
       "    </tr>\n",
       "    <tr>\n",
       "      <th>min</th>\n",
       "      <td>1.00</td>\n",
       "      <td>4.90</td>\n",
       "      <td>3.70</td>\n",
       "    </tr>\n",
       "    <tr>\n",
       "      <th>25%</th>\n",
       "      <td>20.25</td>\n",
       "      <td>5.60</td>\n",
       "      <td>4.30</td>\n",
       "    </tr>\n",
       "    <tr>\n",
       "      <th>50%</th>\n",
       "      <td>39.50</td>\n",
       "      <td>5.80</td>\n",
       "      <td>4.60</td>\n",
       "    </tr>\n",
       "    <tr>\n",
       "      <th>75%</th>\n",
       "      <td>58.75</td>\n",
       "      <td>6.20</td>\n",
       "      <td>5.00</td>\n",
       "    </tr>\n",
       "    <tr>\n",
       "      <th>max</th>\n",
       "      <td>78.00</td>\n",
       "      <td>6.80</td>\n",
       "      <td>5.70</td>\n",
       "    </tr>\n",
       "  </tbody>\n",
       "</table>\n",
       "</div>"
      ],
      "text/plain": [
       "          ID     V6     V7\n",
       "count  78.00  78.00  78.00\n",
       "mean   39.50   5.91   4.65\n",
       "std    22.66   0.43   0.51\n",
       "min     1.00   4.90   3.70\n",
       "25%    20.25   5.60   4.30\n",
       "50%    39.50   5.80   4.60\n",
       "75%    58.75   6.20   5.00\n",
       "max    78.00   6.80   5.70"
      ]
     },
     "execution_count": 82,
     "metadata": {},
     "output_type": "execute_result"
    }
   ],
   "source": [
    "#printando informações importantes \n",
    "round(df.describe(), 2)"
   ]
  },
  {
   "cell_type": "code",
   "execution_count": 130,
   "metadata": {},
   "outputs": [
    {
     "data": {
      "text/html": [
       "<div>\n",
       "<style scoped>\n",
       "    .dataframe tbody tr th:only-of-type {\n",
       "        vertical-align: middle;\n",
       "    }\n",
       "\n",
       "    .dataframe tbody tr th {\n",
       "        vertical-align: top;\n",
       "    }\n",
       "\n",
       "    .dataframe thead th {\n",
       "        text-align: right;\n",
       "    }\n",
       "</style>\n",
       "<table border=\"1\" class=\"dataframe\">\n",
       "  <thead>\n",
       "    <tr style=\"text-align: right;\">\n",
       "      <th></th>\n",
       "      <th>ID</th>\n",
       "      <th>V1</th>\n",
       "      <th>V6</th>\n",
       "    </tr>\n",
       "  </thead>\n",
       "  <tbody>\n",
       "    <tr>\n",
       "      <th>7</th>\n",
       "      <td>8</td>\n",
       "      <td>Apiaca</td>\n",
       "      <td>4.9</td>\n",
       "    </tr>\n",
       "    <tr>\n",
       "      <th>21</th>\n",
       "      <td>22</td>\n",
       "      <td>Divino de Sao Lourenco</td>\n",
       "      <td>4.9</td>\n",
       "    </tr>\n",
       "    <tr>\n",
       "      <th>31</th>\n",
       "      <td>32</td>\n",
       "      <td>Ibitirama</td>\n",
       "      <td>5.0</td>\n",
       "    </tr>\n",
       "  </tbody>\n",
       "</table>\n",
       "</div>"
      ],
      "text/plain": [
       "    ID                      V1   V6\n",
       "7    8                  Apiaca  4.9\n",
       "21  22  Divino de Sao Lourenco  4.9\n",
       "31  32               Ibitirama  5.0"
      ]
     },
     "execution_count": 130,
     "metadata": {},
     "output_type": "execute_result"
    }
   ],
   "source": [
    "#Separando os dataframes para ficar mais facil de trabalhar\n",
    "df6 = df[['ID', 'V1', 'V6']]\n",
    "df7 = df[['ID', 'V1', 'V7']]\n",
    "\n",
    "#Aqui conseguimos ver um exemplo de query que filtra de acordo com as condicoes\n",
    "\n",
    "df6.query(\"V6>= 4.9 & V6<5.1\")"
   ]
  },
  {
   "cell_type": "code",
   "execution_count": 131,
   "metadata": {},
   "outputs": [],
   "source": [
    "freq1 = len(df6.query(\"V6>= 4.9 & V6<5.1\"))\n",
    "freq2 = len(df6.query(\"V6>= 5.1 & V6<5.3\"))\n",
    "freq3 = len(df6.query(\"V6>= 5.3 & V6<5.5\"))\n",
    "freq4 = len(df6.query(\"V6>= 5.5 & V6<5.7\"))\n",
    "freq5 = len(df6.query(\"V6>= 5.7 & V6<5.9\"))\n",
    "freq6 = len(df6.query(\"V6>= 5.9 & V6<6.1\"))\n",
    "freq7 = len(df6.query(\"V6>= 6.1 & V6<6.3\"))\n",
    "freq8 = len(df6.query(\"V6>= 6.3 & V6<6.5\"))\n",
    "freq9 = len(df6.query(\"V6>= 6.5 & V6<=6.8\"))"
   ]
  },
  {
   "cell_type": "code",
   "execution_count": 138,
   "metadata": {},
   "outputs": [],
   "source": [
    "#criando uma coluna com as faixas\n",
    "df6 = pd.DataFrame(data={\"V6(faixa)\": [\"4,9 |- 5,1\", \"5,1 |- 5,3\", \"5,3 |- 5,5\", \"5,5 |- 5,7\", \"5,7 |- 5,9\",\"5,9 |- 6,1\",\"6,1 |- 6,3\",\"6,3 |- 6,5\", \"6,5 |-| 6,8\"]})\n",
    "df6[\"Frequencia\"] = [freq1, freq2, freq3, freq4, freq5, freq6, freq7, freq8, freq9]"
   ]
  },
  {
   "cell_type": "code",
   "execution_count": 139,
   "metadata": {},
   "outputs": [],
   "source": [
    "df6[\"Frequencia Relativa(%)\"] = round(df6[\"Frequencia\"] / len(df[\"V6\"]) * 100 , 2)"
   ]
  },
  {
   "cell_type": "code",
   "execution_count": 140,
   "metadata": {},
   "outputs": [],
   "source": [
    "df6[\"Frequencia Acumulada(%)\"] = [3.85, 5.13, 14.1, 28.2, 51.28, 65.38, 75.64, 88.46, 100]"
   ]
  },
  {
   "cell_type": "code",
   "execution_count": 141,
   "metadata": {},
   "outputs": [],
   "source": [
    "#Para printar uma tabela bonita\n",
    "df6.loc[len(df6)] = [\"Total\", len(df['ID']), \"100%\", \"100%\"]"
   ]
  },
  {
   "cell_type": "code",
   "execution_count": 142,
   "metadata": {},
   "outputs": [
    {
     "data": {
      "text/html": [
       "<div>\n",
       "<style scoped>\n",
       "    .dataframe tbody tr th:only-of-type {\n",
       "        vertical-align: middle;\n",
       "    }\n",
       "\n",
       "    .dataframe tbody tr th {\n",
       "        vertical-align: top;\n",
       "    }\n",
       "\n",
       "    .dataframe thead th {\n",
       "        text-align: right;\n",
       "    }\n",
       "</style>\n",
       "<table border=\"1\" class=\"dataframe\">\n",
       "  <thead>\n",
       "    <tr style=\"text-align: right;\">\n",
       "      <th></th>\n",
       "      <th>V6(faixa)</th>\n",
       "      <th>Frequencia</th>\n",
       "      <th>Frequencia Relativa(%)</th>\n",
       "      <th>Frequencia Acumulada(%)</th>\n",
       "    </tr>\n",
       "  </thead>\n",
       "  <tbody>\n",
       "    <tr>\n",
       "      <th>0</th>\n",
       "      <td>4,9 |- 5,1</td>\n",
       "      <td>3</td>\n",
       "      <td>3.85</td>\n",
       "      <td>3.85</td>\n",
       "    </tr>\n",
       "    <tr>\n",
       "      <th>1</th>\n",
       "      <td>5,1 |- 5,3</td>\n",
       "      <td>1</td>\n",
       "      <td>1.28</td>\n",
       "      <td>5.13</td>\n",
       "    </tr>\n",
       "    <tr>\n",
       "      <th>2</th>\n",
       "      <td>5,3 |- 5,5</td>\n",
       "      <td>7</td>\n",
       "      <td>8.97</td>\n",
       "      <td>14.1</td>\n",
       "    </tr>\n",
       "    <tr>\n",
       "      <th>3</th>\n",
       "      <td>5,5 |- 5,7</td>\n",
       "      <td>11</td>\n",
       "      <td>14.1</td>\n",
       "      <td>28.2</td>\n",
       "    </tr>\n",
       "    <tr>\n",
       "      <th>4</th>\n",
       "      <td>5,7 |- 5,9</td>\n",
       "      <td>18</td>\n",
       "      <td>23.08</td>\n",
       "      <td>51.28</td>\n",
       "    </tr>\n",
       "    <tr>\n",
       "      <th>5</th>\n",
       "      <td>5,9 |- 6,1</td>\n",
       "      <td>11</td>\n",
       "      <td>14.1</td>\n",
       "      <td>65.38</td>\n",
       "    </tr>\n",
       "    <tr>\n",
       "      <th>6</th>\n",
       "      <td>6,1 |- 6,3</td>\n",
       "      <td>8</td>\n",
       "      <td>10.26</td>\n",
       "      <td>75.64</td>\n",
       "    </tr>\n",
       "    <tr>\n",
       "      <th>7</th>\n",
       "      <td>6,3 |- 6,5</td>\n",
       "      <td>10</td>\n",
       "      <td>12.82</td>\n",
       "      <td>88.46</td>\n",
       "    </tr>\n",
       "    <tr>\n",
       "      <th>8</th>\n",
       "      <td>6,5 |-| 6,8</td>\n",
       "      <td>9</td>\n",
       "      <td>11.54</td>\n",
       "      <td>100</td>\n",
       "    </tr>\n",
       "    <tr>\n",
       "      <th>9</th>\n",
       "      <td>Total</td>\n",
       "      <td>78</td>\n",
       "      <td>100%</td>\n",
       "      <td>100%</td>\n",
       "    </tr>\n",
       "  </tbody>\n",
       "</table>\n",
       "</div>"
      ],
      "text/plain": [
       "     V6(faixa)  Frequencia Frequencia Relativa(%) Frequencia Acumulada(%)\n",
       "0   4,9 |- 5,1           3                   3.85                    3.85\n",
       "1   5,1 |- 5,3           1                   1.28                    5.13\n",
       "2   5,3 |- 5,5           7                   8.97                    14.1\n",
       "3   5,5 |- 5,7          11                   14.1                    28.2\n",
       "4   5,7 |- 5,9          18                  23.08                   51.28\n",
       "5   5,9 |- 6,1          11                   14.1                   65.38\n",
       "6   6,1 |- 6,3           8                  10.26                   75.64\n",
       "7   6,3 |- 6,5          10                  12.82                   88.46\n",
       "8  6,5 |-| 6,8           9                  11.54                     100\n",
       "9        Total          78                   100%                    100%"
      ]
     },
     "execution_count": 142,
     "metadata": {},
     "output_type": "execute_result"
    }
   ],
   "source": [
    "#printando a tabela de frequencia de V6\n",
    "df6"
   ]
  },
  {
   "cell_type": "code",
   "execution_count": 143,
   "metadata": {},
   "outputs": [
    {
     "data": {
      "text/html": [
       "<div>\n",
       "<style scoped>\n",
       "    .dataframe tbody tr th:only-of-type {\n",
       "        vertical-align: middle;\n",
       "    }\n",
       "\n",
       "    .dataframe tbody tr th {\n",
       "        vertical-align: top;\n",
       "    }\n",
       "\n",
       "    .dataframe thead th {\n",
       "        text-align: right;\n",
       "    }\n",
       "</style>\n",
       "<table border=\"1\" class=\"dataframe\">\n",
       "  <thead>\n",
       "    <tr style=\"text-align: right;\">\n",
       "      <th></th>\n",
       "      <th>ID</th>\n",
       "      <th>V1</th>\n",
       "      <th>V7</th>\n",
       "    </tr>\n",
       "  </thead>\n",
       "  <tbody>\n",
       "    <tr>\n",
       "      <th>0</th>\n",
       "      <td>1</td>\n",
       "      <td>Afonso Claudio</td>\n",
       "      <td>5.0</td>\n",
       "    </tr>\n",
       "    <tr>\n",
       "      <th>1</th>\n",
       "      <td>2</td>\n",
       "      <td>Agua Doce do Norte</td>\n",
       "      <td>4.2</td>\n",
       "    </tr>\n",
       "    <tr>\n",
       "      <th>2</th>\n",
       "      <td>3</td>\n",
       "      <td>Aguia Branca</td>\n",
       "      <td>4.7</td>\n",
       "    </tr>\n",
       "    <tr>\n",
       "      <th>3</th>\n",
       "      <td>4</td>\n",
       "      <td>Alegre</td>\n",
       "      <td>4.2</td>\n",
       "    </tr>\n",
       "    <tr>\n",
       "      <th>4</th>\n",
       "      <td>5</td>\n",
       "      <td>Alfredo Chaves</td>\n",
       "      <td>5.1</td>\n",
       "    </tr>\n",
       "    <tr>\n",
       "      <th>...</th>\n",
       "      <td>...</td>\n",
       "      <td>...</td>\n",
       "      <td>...</td>\n",
       "    </tr>\n",
       "    <tr>\n",
       "      <th>73</th>\n",
       "      <td>74</td>\n",
       "      <td>Viana</td>\n",
       "      <td>4.1</td>\n",
       "    </tr>\n",
       "    <tr>\n",
       "      <th>74</th>\n",
       "      <td>75</td>\n",
       "      <td>Vila Pavao</td>\n",
       "      <td>5.6</td>\n",
       "    </tr>\n",
       "    <tr>\n",
       "      <th>75</th>\n",
       "      <td>76</td>\n",
       "      <td>Vila Valerio</td>\n",
       "      <td>5.2</td>\n",
       "    </tr>\n",
       "    <tr>\n",
       "      <th>76</th>\n",
       "      <td>77</td>\n",
       "      <td>Vila Velha</td>\n",
       "      <td>4.4</td>\n",
       "    </tr>\n",
       "    <tr>\n",
       "      <th>77</th>\n",
       "      <td>78</td>\n",
       "      <td>Vitoria</td>\n",
       "      <td>4.3</td>\n",
       "    </tr>\n",
       "  </tbody>\n",
       "</table>\n",
       "<p>78 rows × 3 columns</p>\n",
       "</div>"
      ],
      "text/plain": [
       "    ID                  V1   V7\n",
       "0    1      Afonso Claudio  5.0\n",
       "1    2  Agua Doce do Norte  4.2\n",
       "2    3        Aguia Branca  4.7\n",
       "3    4              Alegre  4.2\n",
       "4    5      Alfredo Chaves  5.1\n",
       "..  ..                 ...  ...\n",
       "73  74               Viana  4.1\n",
       "74  75          Vila Pavao  5.6\n",
       "75  76        Vila Valerio  5.2\n",
       "76  77          Vila Velha  4.4\n",
       "77  78             Vitoria  4.3\n",
       "\n",
       "[78 rows x 3 columns]"
      ]
     },
     "execution_count": 143,
     "metadata": {},
     "output_type": "execute_result"
    }
   ],
   "source": [
    "#Agora com df7\n",
    "df7"
   ]
  },
  {
   "cell_type": "code",
   "execution_count": 144,
   "metadata": {},
   "outputs": [],
   "source": [
    "freq1 = len(df7.query(\"V7>= 3.7 & V7<3.9\"))\n",
    "freq2 = len(df7.query(\"V7>= 3.9 & V7<4.1\"))\n",
    "freq3 = len(df7.query(\"V7>= 4.1 & V7<4.3\"))\n",
    "freq4 = len(df7.query(\"V7>= 4.3 & V7<4.5\"))\n",
    "freq5 = len(df7.query(\"V7>= 4.5 & V7<4.7\"))\n",
    "freq6 = len(df7.query(\"V7>= 4.7 & V7<4.9\"))\n",
    "freq7 = len(df7.query(\"V7>= 4.9 & V7<5.1\"))\n",
    "freq8 = len(df7.query(\"V7>= 5.1 & V7<5.3\"))\n",
    "freq9 = len(df7.query(\"V7>= 5.3 & V7<5.5\"))\n",
    "freq10 = len(df7.query(\"V7>= 5.5 & V7<=5.7\"))"
   ]
  },
  {
   "cell_type": "code",
   "execution_count": 145,
   "metadata": {},
   "outputs": [],
   "source": [
    "df7 = pd.DataFrame(data={\"V7(faixa)\": [\"3,7 |- 3,9\", \"3,9 |- 4,1\", \"4,1 |- 4,3\", \"4,3 |- 4,5\", \"4,5 |- 4,7\",\"4,7 |- 4,9\",\"4,9 |- 5,1\",\"5,1 |- 5,3\", \"5,3 |- 5,5\", \"5,5 |-| 5,7\"]})\n",
    "df7[\"Frequencia\"] = [freq1, freq2, freq3, freq4, freq5, freq6, freq7, freq8, freq9, freq10]"
   ]
  },
  {
   "cell_type": "code",
   "execution_count": 147,
   "metadata": {},
   "outputs": [],
   "source": [
    "df7[\"Frequencia Relativa(%)\"] = round(df7[\"Frequencia\"] / len(df[\"V6\"]) * 100 , 2)"
   ]
  },
  {
   "cell_type": "code",
   "execution_count": 149,
   "metadata": {},
   "outputs": [],
   "source": [
    "df7[\"Frequencia Acumulada(%)\"] = [3.85, 8.98, 23.08, 41.03, 53.85, 65.39, 78.21, 83.34, 91.03, 100]"
   ]
  },
  {
   "cell_type": "code",
   "execution_count": 151,
   "metadata": {},
   "outputs": [],
   "source": [
    "#Para printar uma tabela bonita\n",
    "df7.loc[len(df7)] = [\"Total\", len(df['ID']), \"100%\", \"100%\"]"
   ]
  },
  {
   "cell_type": "code",
   "execution_count": 152,
   "metadata": {},
   "outputs": [
    {
     "data": {
      "text/html": [
       "<div>\n",
       "<style scoped>\n",
       "    .dataframe tbody tr th:only-of-type {\n",
       "        vertical-align: middle;\n",
       "    }\n",
       "\n",
       "    .dataframe tbody tr th {\n",
       "        vertical-align: top;\n",
       "    }\n",
       "\n",
       "    .dataframe thead th {\n",
       "        text-align: right;\n",
       "    }\n",
       "</style>\n",
       "<table border=\"1\" class=\"dataframe\">\n",
       "  <thead>\n",
       "    <tr style=\"text-align: right;\">\n",
       "      <th></th>\n",
       "      <th>V7(faixa)</th>\n",
       "      <th>Frequencia</th>\n",
       "      <th>Frequencia Relativa(%)</th>\n",
       "      <th>Frequencia Acumulada(%)</th>\n",
       "    </tr>\n",
       "  </thead>\n",
       "  <tbody>\n",
       "    <tr>\n",
       "      <th>0</th>\n",
       "      <td>3,7 |- 3,9</td>\n",
       "      <td>3</td>\n",
       "      <td>3.85</td>\n",
       "      <td>3.85</td>\n",
       "    </tr>\n",
       "    <tr>\n",
       "      <th>1</th>\n",
       "      <td>3,9 |- 4,1</td>\n",
       "      <td>4</td>\n",
       "      <td>5.13</td>\n",
       "      <td>8.98</td>\n",
       "    </tr>\n",
       "    <tr>\n",
       "      <th>2</th>\n",
       "      <td>4,1 |- 4,3</td>\n",
       "      <td>11</td>\n",
       "      <td>14.1</td>\n",
       "      <td>23.08</td>\n",
       "    </tr>\n",
       "    <tr>\n",
       "      <th>3</th>\n",
       "      <td>4,3 |- 4,5</td>\n",
       "      <td>14</td>\n",
       "      <td>17.95</td>\n",
       "      <td>41.03</td>\n",
       "    </tr>\n",
       "    <tr>\n",
       "      <th>4</th>\n",
       "      <td>4,5 |- 4,7</td>\n",
       "      <td>10</td>\n",
       "      <td>12.82</td>\n",
       "      <td>53.85</td>\n",
       "    </tr>\n",
       "    <tr>\n",
       "      <th>5</th>\n",
       "      <td>4,7 |- 4,9</td>\n",
       "      <td>9</td>\n",
       "      <td>11.54</td>\n",
       "      <td>65.39</td>\n",
       "    </tr>\n",
       "    <tr>\n",
       "      <th>6</th>\n",
       "      <td>4,9 |- 5,1</td>\n",
       "      <td>10</td>\n",
       "      <td>12.82</td>\n",
       "      <td>78.21</td>\n",
       "    </tr>\n",
       "    <tr>\n",
       "      <th>7</th>\n",
       "      <td>5,1 |- 5,3</td>\n",
       "      <td>4</td>\n",
       "      <td>5.13</td>\n",
       "      <td>83.34</td>\n",
       "    </tr>\n",
       "    <tr>\n",
       "      <th>8</th>\n",
       "      <td>5,3 |- 5,5</td>\n",
       "      <td>6</td>\n",
       "      <td>7.69</td>\n",
       "      <td>91.03</td>\n",
       "    </tr>\n",
       "    <tr>\n",
       "      <th>9</th>\n",
       "      <td>5,5 |-| 5,7</td>\n",
       "      <td>7</td>\n",
       "      <td>8.97</td>\n",
       "      <td>100</td>\n",
       "    </tr>\n",
       "    <tr>\n",
       "      <th>10</th>\n",
       "      <td>Total</td>\n",
       "      <td>78</td>\n",
       "      <td>100%</td>\n",
       "      <td>100%</td>\n",
       "    </tr>\n",
       "  </tbody>\n",
       "</table>\n",
       "</div>"
      ],
      "text/plain": [
       "      V7(faixa)  Frequencia Frequencia Relativa(%) Frequencia Acumulada(%)\n",
       "0    3,7 |- 3,9           3                   3.85                    3.85\n",
       "1    3,9 |- 4,1           4                   5.13                    8.98\n",
       "2    4,1 |- 4,3          11                   14.1                   23.08\n",
       "3    4,3 |- 4,5          14                  17.95                   41.03\n",
       "4    4,5 |- 4,7          10                  12.82                   53.85\n",
       "5    4,7 |- 4,9           9                  11.54                   65.39\n",
       "6    4,9 |- 5,1          10                  12.82                   78.21\n",
       "7    5,1 |- 5,3           4                   5.13                   83.34\n",
       "8    5,3 |- 5,5           6                   7.69                   91.03\n",
       "9   5,5 |-| 5,7           7                   8.97                     100\n",
       "10        Total          78                   100%                    100%"
      ]
     },
     "execution_count": 152,
     "metadata": {},
     "output_type": "execute_result"
    }
   ],
   "source": [
    "#printando a tabela de frequencia de V6\n",
    "df7"
   ]
  },
  {
   "cell_type": "code",
   "execution_count": 185,
   "metadata": {},
   "outputs": [
    {
     "data": {
      "text/plain": [
       "[]"
      ]
     },
     "execution_count": 185,
     "metadata": {},
     "output_type": "execute_result"
    },
    {
     "data": {
      "image/png": "[encoded data removed]",
      "text/plain": [
       "<Figure size 432x288 with 1 Axes>"
      ]
     },
     "metadata": {
      "needs_background": "light"
     },
     "output_type": "display_data"
    }
   ],
   "source": [
    "#Aqui é feita uma plotagem da frequencia absoluta de V6 em um gráfico de histograma\n",
    "\n",
    "import matplotlib.pyplot as plt\n",
    "\n",
    "bins = [4.9, 5.1, 5.3, 5.5, 5.7, 5.9, 6.1, 6.3, 6.5, 6.8]\n",
    "\n",
    "plt.hist(df[\"V6\"], bins, rwidth=0.97, color='red', alpha=0.7)\n",
    "plt.title('Histograma de Frequência', fontsize=20)\n",
    "plt.xlabel('Valores de V6', fontsize=15)\n",
    "plt.ylabel('Frequência Absoluta', fontsize=15)\n",
    "plt.plot()"
   ]
  },
  {
   "cell_type": "code",
   "execution_count": 186,
   "metadata": {},
   "outputs": [
    {
     "data": {
      "text/plain": [
       "[]"
      ]
     },
     "execution_count": 186,
     "metadata": {},
     "output_type": "execute_result"
    },
    {
     "data": {
      "image/png": "[encoded data removed]",
      "text/plain": [
       "<Figure size 432x288 with 1 Axes>"
      ]
     },
     "metadata": {
      "needs_background": "light"
     },
     "output_type": "display_data"
    }
   ],
   "source": [
    "#Aqui é feita uma plotagem da frequencia absoluta de V7 em um gráfico de histograma\n",
    "\n",
    "#import matplotlib.pyplot as plt\n",
    "\n",
    "bins = [3.7, 3.9, 4.1, 4.3, 4.5, 4.7, 4.9, 5.1, 5.3, 5.5, 5.7]\n",
    "\n",
    "plt.hist(df[\"V7\"], bins, rwidth=0.97, color='green', alpha=0.7)\n",
    "plt.title('Histograma de Frequência', fontsize=20)\n",
    "plt.xlabel('Valores de V7', fontsize=15)\n",
    "plt.ylabel('Frequência Absoluta', fontsize=15)\n",
    "plt.plot()"
   ]
  },
  {
   "cell_type": "code",
   "execution_count": 238,
   "metadata": {},
   "outputs": [
    {
     "data": {
      "image/png": "[encoded data removed]",
      "text/plain": [
       "<Figure size 576x576 with 1 Axes>"
      ]
     },
     "metadata": {},
     "output_type": "display_data"
    }
   ],
   "source": [
    "#Outras plotagens interessantes\n",
    "\n",
    "#Para V6\n",
    "\n",
    "# import numpy as np\n",
    "# import matplotlib.pyplot as plt\n",
    "\n",
    "fig, ax = plt.subplots(figsize=(8, 8), subplot_kw=dict(aspect=\"equal\"))\n",
    "\n",
    "data = df6[\"Frequencia\"].drop(index=9)\n",
    "faixas = \"4,9 |- 5,1\", \"5,1 |- 5,3\", \"5,3 |- 5,5\", \"5,5 |- 5,7\", \"5,7 |- 5,9\",\"5,9 |- 6,1\",\"6,1 |- 6,3\",\"6,3 |- 6,5\", \"6,5 |-| 6,8\"\n",
    "\n",
    "# def func(pct):\n",
    "#     absolute = int(pct/100.*np.sum(allvals))\n",
    "#     return \"{:.1f}%\\n({:d} g)\".format(pct)\n",
    "\n",
    "\n",
    "wedges, texts, autotexts = ax.pie(data, autopct='%1.1f%%',\n",
    "                                  textprops=dict(color=\"w\"),\n",
    "                                 shadow=True)\n",
    "\n",
    "ax.legend(wedges, faixas,\n",
    "          title=\"Faixa de valores\",\n",
    "          loc=\"center left\",\n",
    "          bbox_to_anchor=(1, 0, 0.5, 1))\n",
    "\n",
    "plt.setp(autotexts, size=8, weight=\"bold\")\n",
    "\n",
    "ax.set_title(\"Distribuição de Frequência V6\", fontsize = 20)\n",
    "\n",
    "plt.show()"
   ]
  },
  {
   "cell_type": "code",
   "execution_count": 239,
   "metadata": {},
   "outputs": [
    {
     "data": {
      "image/png": "[encoded data removed]",
      "text/plain": [
       "<Figure size 576x576 with 1 Axes>"
      ]
     },
     "metadata": {},
     "output_type": "display_data"
    }
   ],
   "source": [
    "#Outras plotagens interessantes\n",
    "\n",
    "#Para V7\n",
    "\n",
    "# import numpy as np\n",
    "# import matplotlib.pyplot as plt\n",
    "\n",
    "fig, ax = plt.subplots(figsize=(8, 8), subplot_kw=dict(aspect=\"equal\"))\n",
    "\n",
    "data = df7[\"Frequencia\"].drop(index=10)\n",
    "faixas = \"3,7 |- 3,9\", \"3,9 |- 4,1\", \"4,1 |- 4,3\", \"4,3 |- 4,5\", \"4,5 |- 4,7\",\"4,7 |- 4,9\",\"4,9 |- 5,1\",\"5,1 |- 5,3\", \"5,3 |- 5,5\", \"5,5 |-| 5,7\"\n",
    "\n",
    "\n",
    "wedges, texts, autotexts = ax.pie(data, autopct='%1.1f%%',\n",
    "                                  textprops=dict(color=\"w\"))\n",
    "\n",
    "ax.legend(wedges, faixas,\n",
    "          title=\"Faixa de valores\",\n",
    "          loc=\"center left\",\n",
    "          bbox_to_anchor=(1, 0, 0.5, 1))\n",
    "\n",
    "plt.setp(autotexts, size=8, weight=\"bold\")\n",
    "\n",
    "ax.set_title(\"Distribuição de Frequência V7\", fontsize = 20)\n",
    "\n",
    "plt.show()"
   ]
  },
  {
   "cell_type": "code",
   "execution_count": 237,
   "metadata": {},
   "outputs": [
    {
     "data": {
      "text/plain": [
       "[]"
      ]
     },
     "execution_count": 237,
     "metadata": {},
     "output_type": "execute_result"
    },
    {
     "data": {
      "image/png": "[encoded data removed]",
      "text/plain": [
       "<Figure size 432x288 with 1 Axes>"
      ]
     },
     "metadata": {
      "needs_background": "light"
     },
     "output_type": "display_data"
    }
   ],
   "source": [
    "#Juntando os dois gráficos de frequencia absoluta\n",
    "\n",
    "\n",
    "bins = [3.7, 3.9, 4.1, 4.3, 4.5, 4.7, 4.9, 5.1, 5.3, 5.5, 5.7, 5.9, 6.1, 6.3, 6.5, 6.8]\n",
    "\n",
    "plt.hist(df[\"V6\"], bins, rwidth=0.95, alpha=0.7, label='V6')\n",
    "plt.hist(df[\"V7\"], bins, rwidth=0.95, alpha=0.7, label='V7')\n",
    "plt.title('Histograma de Frequência', fontsize=20)\n",
    "plt.xlabel('Valores de V6 e V7', fontsize=15)\n",
    "plt.ylabel('Frequência Absoluta', fontsize=15)\n",
    "plt.legend(loc='upper right')\n",
    "plt.plot()\n"
   ]
  },
  {
   "cell_type": "code",
   "execution_count": null,
   "metadata": {},
   "outputs": [],
   "source": []
  }
 ],
 "metadata": {
  "kernelspec": {
   "display_name": "Python 3",
   "language": "python",
   "name": "python3"
  },
  "language_info": {
   "codemirror_mode": {
    "name": "ipython",
    "version": 3
   },
   "file_extension": ".py",
   "mimetype": "text/x-python",
   "name": "python",
   "nbconvert_exporter": "python",
   "pygments_lexer": "ipython3",
   "version": "3.7.8"
  }
 },
 "nbformat": 4,
 "nbformat_minor": 4
}
